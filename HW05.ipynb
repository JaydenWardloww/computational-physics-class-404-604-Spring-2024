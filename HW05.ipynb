{
 "cells": [
  {
   "cell_type": "markdown",
   "id": "26f2cec1-2c9a-40c3-853a-523bd1022d58",
   "metadata": {
    "tags": []
   },
   "source": [
    "## Newton-Raphson for equations\n",
    "Find the solution for  \n",
    "\\begin{eqnarray}\n",
    "x_{1}^2+x_{1}x_{2}=10\\\\\n",
    "x_{2}+3x_{1}x_{2}^2=57\n",
    "\\end{eqnarray}"
   ]
  },
  {
   "cell_type": "code",
   "execution_count": null,
   "id": "a5302dd9-3e51-4162-9a3c-3d4253e0919a",
   "metadata": {
    "tags": []
   },
   "outputs": [],
   "source": [
    "# Homework: using Newton-Raphson method to solve above equation arrays\n",
    "# Hint: first you need to derive the partial derivative of the equation arrays. You can do it either \n",
    "# analytically by hand or numerically using method we learned in the last lecture."
   ]
  },
  {
   "cell_type": "code",
   "execution_count": 29,
   "id": "33afdebd-257e-4046-b898-29cb08d4b9d3",
   "metadata": {},
   "outputs": [
    {
     "name": "stdout",
     "output_type": "stream",
     "text": [
      "Root is at 1.999979499316995  after  3  iterations, with a precision of  0.00014171506106031018\n",
      "Root is at 1.999979499316995  after  3  iterations, with a precision of  0.0005204163827770003\n"
     ]
    }
   ],
   "source": [
    "import matplotlib.pyplot as plt\n",
    "import numpy as np\n",
    "#remember (y(x+dx/2)-y(x-dx/2))/dx central difference\n",
    "\n",
    "def f1(x1,x2,):\n",
    "    return (x1*x1+x1*x2-10.)\n",
    "\n",
    "def f2(x1,x2,):\n",
    "    return (x2+3*x1*x2*x2-57)\n",
    "\n",
    "def f1x1(x1,x2,dx): #a\n",
    "    dx=1e-6\n",
    "    return 2*x1+x2 #I can use central difference or do partial derivative by hand for a, b, c, and d\n",
    "    \n",
    "\n",
    "def f1x2(x1,x2,dx): #b\n",
    "    return x1\n",
    "    \n",
    "    \n",
    "def f2x1(x1,x2,dx): #c\n",
    "    return 3*x2*x2\n",
    "    \n",
    "def f2x2(x1,x2,dx): #d\n",
    "    return 1+6*x1*x2\n",
    "    \n",
    "def dx1(f1,f2,a,b,c,d,x1,x2):#call these functions (setting up like central difference\n",
    "       \n",
    "        return (b * f2(x1, x2) - d * f1(x1,x2))/(a * d - b * c)\n",
    "\n",
    "\n",
    "def dx2(f1,f2,a,b,c,d,x1,x2): #call these functions\n",
    "        \n",
    "        return (c * f1(x1,x2) - a * f2(x1,x2)) / (a * d - b * c)\n",
    "    \n",
    "    \n",
    "eps = 1e-12\n",
    "dx = 1e-16\n",
    "nmax = 100\n",
    "x1= 1\n",
    "x2= 2\n",
    "for i in range(nmax):\n",
    "    a = f1x1(x1, x2, dx)\n",
    "    b = f1x2(x1, x2, dx)\n",
    "    c = f2x1(x1, x2, dx)\n",
    "    d = f2x2(x1, x2, dx)\n",
    "    x1=x1+dx1(f1,f2,a,b,c,d,x1,x2)\n",
    "    x2=x2+dx2(f1,f2,a,b,c,d,x1,x2)\n",
    "    if f1(x1,x2)<eps and f2(x1,x2)<eps:\n",
    "        print(\"Root is at\",x1,\" after \",i,\" iterations, with a precision of \",abs(f1(x1,x2)))\n",
    "        print(\"Root is at\",x1,\" after \",i,\" iterations, with a precision of \",abs(f2(x1,x2)))\n",
    "        break"
   ]
  },
  {
   "cell_type": "code",
   "execution_count": null,
   "id": "faf11825-fd2d-4c68-9188-7efa36333b23",
   "metadata": {},
   "outputs": [],
   "source": []
  }
 ],
 "metadata": {
  "kernelspec": {
   "display_name": "Python 3 (ipykernel)",
   "language": "python",
   "name": "python3"
  },
  "language_info": {
   "codemirror_mode": {
    "name": "ipython",
    "version": 3
   },
   "file_extension": ".py",
   "mimetype": "text/x-python",
   "name": "python",
   "nbconvert_exporter": "python",
   "pygments_lexer": "ipython3",
   "version": "3.11.5"
  }
 },
 "nbformat": 4,
 "nbformat_minor": 5
}
